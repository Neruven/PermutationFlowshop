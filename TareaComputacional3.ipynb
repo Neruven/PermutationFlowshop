{
 "cells": [
  {
   "cell_type": "code",
   "execution_count": 200,
   "id": "dc6654db-e2b4-4e86-9706-4724f22458d0",
   "metadata": {},
   "outputs": [],
   "source": [
    "import pulp\n",
    "import numpy as np\n",
    "\n",
    "data = [\n",
    "    [9, 13, 15 ,20],\n",
    "    [11, 17, 18, 24],\n",
    "    [8, 12, 14, 18],\n",
    "    [6, 10, 12, 15]\n",
    "]\n",
    "\n",
    "# Modelo usa notacion T_{MxN} donde M es el numero de maquinas y N el numero de trabajos\n",
    "T = np.transpose(data)\n",
    "\n",
    "M = len(T[0]) # Numero de maquinas\n",
    "N = len(T) # Numero de trabajos"
   ]
  },
  {
   "cell_type": "markdown",
   "metadata": {},
   "source": [
    "# Formulación Wagner"
   ]
  },
  {
   "cell_type": "markdown",
   "metadata": {},
   "source": [
    "## Modelo PulP"
   ]
  },
  {
   "cell_type": "code",
   "execution_count": 201,
   "metadata": {},
   "outputs": [
    {
     "name": "stdout",
     "output_type": "stream",
     "text": [
      "Status: Optimal\n",
      "Funcion objetivo =  105.0\n"
     ]
    }
   ],
   "source": [
    "wagner_model_pulp = pulp.LpProblem(\"Wagner_Model_Pulp\",pulp.LpMinimize) # Problema de minimización\n",
    "\n",
    "# Variables de decision\n",
    "X = pulp.LpVariable.dicts(\"X\",(range(N),range(M)),lowBound=0, cat=pulp.LpContinuous)\n",
    "Y = pulp.LpVariable.dicts(\"Y\",(range(N),range(M)),lowBound=0, cat=pulp.LpContinuous)\n",
    "Z = pulp.LpVariable.dicts(\"Z\",(range(N),range(N)),lowBound=0, cat=pulp.LpBinary)\n",
    "\n",
    "# Funcion objetivo (Restriccion 5)\n",
    "wagner_model_pulp += pulp.lpSum(T[M-1][i] for i in range(N)) + pulp.lpSum(X[M-1][p] for p in range(N))\n",
    "\n",
    "# Restriccion 1\n",
    "for i in range(N):\n",
    "    wagner_model_pulp += pulp.lpSum(Z[i][j] for j in range(N)) == 1\n",
    "\n",
    "# Restriccion 2\n",
    "for j in range(N):\n",
    "    wagner_model_pulp += pulp.lpSum(Z[i][j] for i in range(N)) == 1\n",
    "\n",
    "# Restriccion 3\n",
    "for j in range(N - 1):\n",
    "    for r in range(M - 1):\n",
    "        wagner_model_pulp += pulp.lpSum(T[r][i] * Z[i][j+1] for i in range(N)) - pulp.lpSum(T[r+1][i] * Z[i][j] for i in range(N)) + X[r][j+1] - X[r+1][j+1] + Y[r][j+1] - Y[r][j] == 0\n",
    "\n",
    "# Restriccion 4\n",
    "for r in range(M - 1):\n",
    "    wagner_model_pulp += pulp.lpSum(T[r][i]*Z[i][0] for i in range(N)) + X[r][0] - X[r+1][0] + Y[r][0] == 0\n",
    "\n",
    "# Resolver\n",
    "wagner_model_pulp.solve(pulp.PULP_CBC_CMD(msg=False))\n",
    "\n",
    "# Imprimir resultados\n",
    "print(\"Status:\", pulp.LpStatus[wagner_model_pulp.status])\n",
    "print(\"Funcion objetivo = \", pulp.value(wagner_model_pulp.objective))"
   ]
  },
  {
   "cell_type": "markdown",
   "metadata": {},
   "source": [
    "## Modelo Cplex"
   ]
  },
  {
   "cell_type": "code",
   "execution_count": 202,
   "metadata": {},
   "outputs": [
    {
     "name": "stdout",
     "output_type": "stream",
     "text": [
      "Status: JobSolveStatus.OPTIMAL_SOLUTION\n",
      "Función objetivo = 105.0\n"
     ]
    }
   ],
   "source": [
    "from docplex.mp.model import Model\n",
    "\n",
    "wagner_model_cplex = Model(name='Wagner_Model_Cplex')\n",
    "\n",
    "# Variables de decisión\n",
    "X = wagner_model_cplex.continuous_var_matrix(keys1=range(N), keys2=range(M), name=\"X\")\n",
    "Y = wagner_model_cplex.continuous_var_matrix(keys1=range(N), keys2=range(M), name=\"Y\")\n",
    "Z = wagner_model_cplex.binary_var_matrix(keys1=range(N), keys2=range(N), name=\"Z\")\n",
    "\n",
    "# Función objetivo (Restricción 5)\n",
    "wagner_model_cplex.minimize(wagner_model_cplex.sum(T[M-1][i] for i in range(N)) + wagner_model_cplex.sum(X[M-1, p] for p in range(N)))\n",
    "\n",
    "# Restricción 1\n",
    "for i in range(N):\n",
    "    wagner_model_cplex.add_constraint(wagner_model_cplex.sum(Z[i, j] for j in range(N)) == 1)\n",
    "\n",
    "# Restricción 2\n",
    "for j in range(N):\n",
    "    wagner_model_cplex.add_constraint(wagner_model_cplex.sum(Z[i, j] for i in range(N)) == 1)\n",
    "\n",
    "# Restricción 3\n",
    "for j in range(N - 1):\n",
    "    for r in range(M - 1):\n",
    "        wagner_model_cplex.add_constraint(wagner_model_cplex.sum(T[r][i] * Z[i, j+1] for i in range(N)) - wagner_model_cplex.sum(T[r+1][i] * Z[i, j] for i in range(N)) + X[r, j+1] - X[r+1, j+1] + Y[r, j+1] - Y[r, j] == 0)\n",
    "\n",
    "# Restricción 4\n",
    "for r in range(M - 1):\n",
    "    wagner_model_cplex.add_constraint(wagner_model_cplex.sum(T[r][i] * Z[i, 0] for i in range(N)) + X[r, 0] - X[r+1, 0] + Y[r, 0] == 0)\n",
    "\n",
    "# Resolver\n",
    "wagner_model_cplex.solve()\n",
    "\n",
    "# Imprimir resultados\n",
    "print(\"Status:\", wagner_model_cplex.get_solve_status())\n",
    "print(\"Función objetivo =\", wagner_model_cplex.objective_value)"
   ]
  },
  {
   "cell_type": "markdown",
   "metadata": {},
   "source": [
    "## Modelo Gurobi"
   ]
  },
  {
   "cell_type": "code",
   "execution_count": 203,
   "metadata": {},
   "outputs": [
    {
     "name": "stdout",
     "output_type": "stream",
     "text": [
      "Status: 2\n",
      "Función objetivo = 105.0\n"
     ]
    }
   ],
   "source": [
    "import gurobipy as gp\n",
    "from gurobipy import GRB\n",
    "\n",
    "# Crear el modelo\n",
    "wagner_model_gurobi = gp.Model(\"Wagner_Model_Gurobi\")\n",
    "\n",
    "# Variables de decisión\n",
    "X = wagner_model_gurobi.addVars(range(N), range(M), lb=0, vtype=GRB.CONTINUOUS, name=\"X\")\n",
    "Y = wagner_model_gurobi.addVars(range(N), range(M), lb=0, vtype=GRB.CONTINUOUS, name=\"Y\")\n",
    "Z = wagner_model_gurobi.addVars(range(N), range(N), vtype=GRB.BINARY, name=\"Z\")\n",
    "\n",
    "# Función objetivo (Restricción 5)\n",
    "wagner_model_gurobi.setObjective(gp.quicksum(T[M-1][i] for i in range(N)) + gp.quicksum(X[M-1, p] for p in range(N)), GRB.MINIMIZE)\n",
    "\n",
    "# Restricción 1\n",
    "for i in range(N):\n",
    "    wagner_model_gurobi.addConstr(gp.quicksum(Z[i, j] for j in range(N)) == 1)\n",
    "\n",
    "# Restricción 2\n",
    "for j in range(N):\n",
    "    wagner_model_gurobi.addConstr(gp.quicksum(Z[i, j] for i in range(N)) == 1)\n",
    "\n",
    "# Restricción 3\n",
    "for j in range(N - 1):\n",
    "    for r in range(M - 1):\n",
    "        wagner_model_gurobi.addConstr(gp.quicksum(T[r][i] * Z[i, j+1] for i in range(N)) - gp.quicksum(T[r+1][i] * Z[i, j] for i in range(N)) + X[r, j+1] - X[r+1, j+1] + Y[r, j+1] - Y[r, j] == 0)\n",
    "\n",
    "# Restricción 4\n",
    "for r in range(M - 1):\n",
    "    wagner_model_gurobi.addConstr(gp.quicksum(T[r][i] * Z[i, 0] for i in range(N)) + X[r, 0] - X[r+1, 0] + Y[r, 0] == 0)\n",
    "\n",
    "# Resolver sin mostrar output\n",
    "wagner_model_gurobi.Params.OutputFlag = 0\n",
    "wagner_model_gurobi.optimize()\n",
    "\n",
    "# Imprimir resultados\n",
    "print(\"Status:\", wagner_model_gurobi.Status)\n",
    "print(\"Función objetivo =\", wagner_model_gurobi.ObjVal)"
   ]
  },
  {
   "cell_type": "markdown",
   "metadata": {},
   "source": [
    "# Formulación Wilson"
   ]
  },
  {
   "cell_type": "markdown",
   "metadata": {},
   "source": [
    "## Modelo PulP"
   ]
  },
  {
   "cell_type": "code",
   "execution_count": 204,
   "metadata": {},
   "outputs": [
    {
     "name": "stdout",
     "output_type": "stream",
     "text": [
      "Status: Optimal\n",
      "Funcion objetivo =  105.0\n"
     ]
    }
   ],
   "source": [
    "wilson_model_pulp = pulp.LpProblem(\"Wilson_Model_Pulp\",pulp.LpMinimize) # Problema de minimización\n",
    "\n",
    "# Variables de decision\n",
    "B = pulp.LpVariable.dicts(\"B\",(range(M),range(N)),lowBound=0, cat=pulp.LpContinuous)\n",
    "Z = pulp.LpVariable.dicts(\"Z\",(range(N),range(N)),lowBound=0, cat=pulp.LpBinary)\n",
    "\n",
    "# Funcion objetivo\n",
    "wilson_model_pulp += B[M-1][N-1] + pulp.lpSum(T[M-1][i]*Z[i][N-1] for i in range(N))\n",
    "\n",
    "# Restriccion 1\n",
    "for i in range(N):\n",
    "    wilson_model_pulp += pulp.lpSum(Z[i][j] for j in range(N)) == 1\n",
    "\n",
    "# Restriccion 2\n",
    "for j in range(N):\n",
    "    wilson_model_pulp += pulp.lpSum(Z[i][j] for i in range(N)) == 1\n",
    "\n",
    "# Restriccion 3\n",
    "for j in range(N - 1):\n",
    "    wilson_model_pulp += B[0][j] + pulp.lpSum(T[0][i]*Z[i][j] for i in range(N)) == B[0][j+1]\n",
    "\n",
    "# Restriccion 4\n",
    "B[0][0] = 0\n",
    "\n",
    "# Restriccion 5\n",
    "for r in range(M - 1):\n",
    "    wilson_model_pulp += B[r][0] + pulp.lpSum(T[r][i]*Z[i][0] for i in range(N)) == B[r+1][0]\n",
    "\n",
    "# Restriccion 6\n",
    "for r in range(M - 1):\n",
    "    for j in range(1,N):\n",
    "        wilson_model_pulp += B[r][j] + pulp.lpSum(T[r][i]*Z[i][j] for i in range(N)) <= B[r+1][j]\n",
    "\n",
    "# Restriction 7\n",
    "for r in range(1,M):\n",
    "    for j in range(N - 1):\n",
    "        wilson_model_pulp += B[r][j] + pulp.lpSum(T[r][i]*Z[i][j] for i in range(N)) <= B[r][j+1]\n",
    "\n",
    "# Resolver\n",
    "wilson_model_pulp.solve(pulp.PULP_CBC_CMD(msg=False))\n",
    "\n",
    "# Imprimir resultados\n",
    "print(\"Status:\", pulp.LpStatus[wilson_model_pulp.status])\n",
    "print(\"Funcion objetivo = \", pulp.value(wilson_model_pulp.objective))"
   ]
  },
  {
   "cell_type": "markdown",
   "metadata": {},
   "source": [
    "## Modelo Cplex"
   ]
  },
  {
   "cell_type": "code",
   "execution_count": 205,
   "metadata": {},
   "outputs": [
    {
     "name": "stdout",
     "output_type": "stream",
     "text": [
      "Status: JobSolveStatus.OPTIMAL_SOLUTION\n",
      "Función objetivo = 105.0\n"
     ]
    }
   ],
   "source": [
    "wilson_model_cplex = Model(name='Wilson_Model_Cplex')\n",
    "\n",
    "# Variables de decisión\n",
    "B = wilson_model_cplex.continuous_var_matrix(keys1=range(M), keys2=range(N), name=\"B\")\n",
    "Z = wilson_model_cplex.binary_var_matrix(keys1=range(N), keys2=range(N), name=\"Z\")\n",
    "\n",
    "# Función objetivo\n",
    "wilson_model_cplex.minimize(B[M-1, N-1] + wilson_model_cplex.sum(T[M-1][i]*Z[i, N-1] for i in range(N)))\n",
    "\n",
    "# Restricción 1\n",
    "for i in range(N):\n",
    "    wilson_model_cplex.add_constraint(wilson_model_cplex.sum(Z[i, j] for j in range(N)) == 1)\n",
    "\n",
    "# Restricción 2\n",
    "for j in range(N):\n",
    "    wilson_model_cplex.add_constraint(wilson_model_cplex.sum(Z[i, j] for i in range(N)) == 1)\n",
    "\n",
    "# Restricción 3\n",
    "for j in range(N - 1):\n",
    "    wilson_model_cplex.add_constraint(B[0, j] + wilson_model_cplex.sum(T[0][i]*Z[i, j] for i in range(N)) == B[0, j+1])\n",
    "\n",
    "# Restricción 4\n",
    "B[0, 0] = 0\n",
    "\n",
    "# Restricción 5\n",
    "for r in range(M - 1):\n",
    "    wilson_model_cplex.add_constraint(B[r, 0] + wilson_model_cplex.sum(T[r][i]*Z[i, 0] for i in range(N)) == B[r+1, 0])\n",
    "\n",
    "# Restricción 6\n",
    "for r in range(M - 1):\n",
    "    for j in range(1,N):\n",
    "        wilson_model_cplex.add_constraint(B[r, j] + wilson_model_cplex.sum(T[r][i]*Z[i, j] for i in range(N)) <= B[r+1, j])\n",
    "\n",
    "# Restricción 7\n",
    "for r in range(1,M):\n",
    "    for j in range(N - 1):\n",
    "        wilson_model_cplex.add_constraint(B[r, j] + wilson_model_cplex.sum(T[r][i]*Z[i, j] for i in range(N)) <= B[r, j+1])\n",
    "\n",
    "# Resolver\n",
    "wilson_model_cplex.solve()\n",
    "\n",
    "# Imprimir resultados\n",
    "print(\"Status:\", wilson_model_cplex.get_solve_status())\n",
    "print(\"Función objetivo =\", wilson_model_cplex.objective_value)"
   ]
  },
  {
   "cell_type": "markdown",
   "metadata": {},
   "source": [
    "## Modelo Gurobi"
   ]
  },
  {
   "cell_type": "code",
   "execution_count": 206,
   "metadata": {},
   "outputs": [
    {
     "name": "stdout",
     "output_type": "stream",
     "text": [
      "Status: 2\n",
      "Función objetivo = 105.0\n"
     ]
    }
   ],
   "source": [
    "wilson_model_gurobi = gp.Model(\"Wilson_Model_Gurobi\")\n",
    "\n",
    "# Variables de decisión\n",
    "B = wilson_model_gurobi.addVars(range(M), range(N), lb=0, vtype=GRB.CONTINUOUS, name=\"B\")\n",
    "Z = wilson_model_gurobi.addVars(range(N), range(N), vtype=GRB.BINARY, name=\"Z\")\n",
    "\n",
    "# Función objetivo\n",
    "wilson_model_gurobi.setObjective(B[M-1, N-1] + gp.quicksum(T[M-1][i]*Z[i, N-1] for i in range(N)), GRB.MINIMIZE)\n",
    "\n",
    "# Restricción 1\n",
    "for i in range(N):\n",
    "    wilson_model_gurobi.addConstr(gp.quicksum(Z[i, j] for j in range(N)) == 1)\n",
    "\n",
    "# Restricción 2\n",
    "for j in range(N):\n",
    "    wilson_model_gurobi.addConstr(gp.quicksum(Z[i, j] for i in range(N)) == 1)\n",
    "\n",
    "# Restricción 3\n",
    "for j in range(N - 1):\n",
    "    wilson_model_gurobi.addConstr(B[0, j] + gp.quicksum(T[0][i]*Z[i, j] for i in range(N)) == B[0, j+1])\n",
    "\n",
    "# Restricción 4\n",
    "B[0, 0] = 0\n",
    "\n",
    "# Restricción 5\n",
    "for r in range(M - 1):\n",
    "    wilson_model_gurobi.addConstr(B[r, 0] + gp.quicksum(T[r][i]*Z[i, 0] for i in range(N)) == B[r+1, 0])\n",
    "\n",
    "# Restricción 6\n",
    "for r in range(M - 1):\n",
    "    for j in range(1,N):\n",
    "        wilson_model_gurobi.addConstr(B[r, j] + gp.quicksum(T[r][i]*Z[i, j] for i in range(N)) <= B[r+1, j])\n",
    "\n",
    "# Restricción 7\n",
    "for r in range(1,M):\n",
    "    for j in range(N - 1):\n",
    "        wilson_model_gurobi.addConstr(B[r, j] + gp.quicksum(T[r][i]*Z[i, j] for i in range(N)) <= B[r, j+1])\n",
    "\n",
    "# Resolver\n",
    "wilson_model_gurobi.Params.OutputFlag = 0\n",
    "wilson_model_gurobi.optimize()\n",
    "\n",
    "# Imprimir resultados\n",
    "print(\"Status:\", wilson_model_gurobi.Status)\n",
    "print(\"Función objetivo =\", wilson_model_gurobi.ObjVal)"
   ]
  },
  {
   "cell_type": "markdown",
   "metadata": {},
   "source": [
    "# Formulación Manne"
   ]
  },
  {
   "cell_type": "markdown",
   "metadata": {},
   "source": [
    "## Modelo PulP"
   ]
  },
  {
   "cell_type": "code",
   "execution_count": 207,
   "metadata": {},
   "outputs": [
    {
     "name": "stdout",
     "output_type": "stream",
     "text": [
      "Status: Optimal\n",
      "Funcion objetivo =  105.0\n"
     ]
    }
   ],
   "source": [
    "manne_model_pulp = pulp.LpProblem(\"Manne_Model_Pulp\",pulp.LpMinimize) # Problema de minimización\n",
    "\n",
    "# Variables de decision\n",
    "C = pulp.LpVariable.dicts(\"C\",(range(M),range(N)),lowBound=0, cat=pulp.LpInteger)\n",
    "D = pulp.LpVariable.dicts(\"D\",(range(N),range(N)),lowBound=0, cat=pulp.LpBinary)\n",
    "Cmax = pulp.LpVariable(\"Cmax\",lowBound=0, cat=pulp.LpInteger)\n",
    "P = 1000 # P una constante grande\n",
    "\n",
    "# Funcion objetivo\n",
    "manne_model_pulp += Cmax\n",
    "\n",
    "# Restriccion 1\n",
    "for i in range(N):\n",
    "    manne_model_pulp += C[0][i] >= T[0][i]\n",
    "\n",
    "# Restriccion 2\n",
    "for r in range(1,M):\n",
    "    for i in range(N):\n",
    "        manne_model_pulp += C[r][i] - C[r-1][i] >= T[r][i]\n",
    "\n",
    "# Restriccion 3\n",
    "for r in range(M):\n",
    "    for i in range(N):\n",
    "        for k in range(i + 1, N):  # Ajustar el rango para i < k\n",
    "            manne_model_pulp += C[r][i] - C[r][k] + P * D[i][k] >= T[r][i]\n",
    "    \n",
    "# Restriccion 4\n",
    "for r in range(M):\n",
    "    for i in range(N):\n",
    "        for k in range(i + 1, N):  # Ajustar el rango para i < k\n",
    "            manne_model_pulp += C[r][i] - C[r][k] + P * D[i][k] <= P - T[r][k]\n",
    "\n",
    "# Restriccion 5\n",
    "for i in range(N):\n",
    "    manne_model_pulp += Cmax >= C[M-1][i]\n",
    "\n",
    "# Resolver\n",
    "manne_model_pulp.solve(pulp.PULP_CBC_CMD(msg=False))\n",
    "\n",
    "# Imprimir resultados\n",
    "print(\"Status:\", pulp.LpStatus[manne_model_pulp.status])\n",
    "print(\"Funcion objetivo = \", pulp.value(manne_model_pulp.objective))"
   ]
  },
  {
   "cell_type": "markdown",
   "metadata": {},
   "source": [
    "## Modelo Cplex"
   ]
  },
  {
   "cell_type": "code",
   "execution_count": 208,
   "metadata": {},
   "outputs": [
    {
     "name": "stdout",
     "output_type": "stream",
     "text": [
      "Status: JobSolveStatus.OPTIMAL_SOLUTION\n",
      "Función objetivo = 105.0\n"
     ]
    }
   ],
   "source": [
    "manne_model_cplex = Model(name='Manne_Model_Cplex')\n",
    "\n",
    "# Variables de decisión\n",
    "C = manne_model_cplex.integer_var_matrix(keys1=range(M), keys2=range(N), name=\"C\")\n",
    "D = manne_model_cplex.binary_var_matrix(keys1=range(N), keys2=range(N), name=\"D\")\n",
    "Cmax = manne_model_cplex.integer_var(name=\"Cmax\")\n",
    "P = 1000 # P una constante grande\n",
    "\n",
    "# Función objetivo\n",
    "manne_model_cplex.minimize(Cmax)\n",
    "\n",
    "# Restricción 1\n",
    "for i in range(N):\n",
    "    manne_model_cplex.add_constraint(C[0,i] >= T[0][i])\n",
    "\n",
    "# Restricción 2\n",
    "for r in range(1,M):\n",
    "    for i in range(N):\n",
    "        manne_model_cplex.add_constraint(C[r,i] - C[r-1,i] >= T[r][i])\n",
    "\n",
    "# Restricción 3\n",
    "for r in range(M):\n",
    "    for i in range(N):\n",
    "        for k in range(i + 1, N):  # Ajustar el rango para i < k\n",
    "            manne_model_cplex.add_constraint(C[r,i] - C[r,k] + P * D[i,k] >= T[r][i])\n",
    "\n",
    "# Restricción 4\n",
    "for r in range(M):\n",
    "    for i in range(N):\n",
    "        for k in range(i + 1, N):  # Ajustar el rango para i < k\n",
    "            manne_model_cplex.add_constraint(C[r,i] - C[r,k] + P * D[i,k] <= P - T[r][k])\n",
    "\n",
    "# Restricción 5\n",
    "for i in range(N):\n",
    "    manne_model_cplex.add_constraint(Cmax >= C[M-1,i])\n",
    "\n",
    "# Resolver\n",
    "manne_model_cplex.solve()\n",
    "\n",
    "# Imprimir resultados\n",
    "print(\"Status:\", manne_model_cplex.get_solve_status())\n",
    "print(\"Función objetivo =\", manne_model_cplex.objective_value)"
   ]
  },
  {
   "cell_type": "markdown",
   "metadata": {},
   "source": [
    "## Modelo Gurobi"
   ]
  },
  {
   "cell_type": "code",
   "execution_count": 209,
   "metadata": {},
   "outputs": [
    {
     "name": "stdout",
     "output_type": "stream",
     "text": [
      "Status: 2\n",
      "Función objetivo = 105.0\n"
     ]
    }
   ],
   "source": [
    "manne_model_gurobi = gp.Model(\"Manne_Model_Gurobi\")\n",
    "\n",
    "# Variables de decisión\n",
    "C = manne_model_gurobi.addVars(range(M), range(N), lb=0, vtype=GRB.INTEGER, name=\"C\")\n",
    "D = manne_model_gurobi.addVars(range(N), range(N), vtype=GRB.BINARY, name=\"D\")\n",
    "Cmax = manne_model_gurobi.addVar(lb=0, vtype=GRB.INTEGER, name=\"Cmax\")\n",
    "P = 1000 # P una constante grande\n",
    "\n",
    "# Función objetivo\n",
    "manne_model_gurobi.setObjective(Cmax, GRB.MINIMIZE)\n",
    "\n",
    "# Restricción 1\n",
    "for i in range(N):\n",
    "    manne_model_gurobi.addConstr(C[0,i] >= T[0][i])\n",
    "\n",
    "# Restricción 2\n",
    "for r in range(1,M):\n",
    "    for i in range(N):\n",
    "        manne_model_gurobi.addConstr(C[r,i] - C[r-1,i] >= T[r][i])\n",
    "\n",
    "# Restricción 3\n",
    "for r in range(M):\n",
    "    for i in range(N):\n",
    "        for k in range(i + 1, N):  # Ajustar el rango para i < k\n",
    "            manne_model_gurobi.addConstr(C[r,i] - C[r,k] + P * D[i,k] >= T[r][i])\n",
    "\n",
    "# Restricción 4\n",
    "for r in range(M):\n",
    "    for i in range(N):\n",
    "        for k in range(i + 1, N):  # Ajustar el rango para i < k\n",
    "            manne_model_gurobi.addConstr(C[r,i] - C[r,k] + P * D[i,k] <= P - T[r][k])\n",
    "\n",
    "# Restricción 5\n",
    "for i in range(N):\n",
    "    manne_model_gurobi.addConstr(Cmax >= C[M-1,i])\n",
    "\n",
    "# Resolver\n",
    "manne_model_gurobi.Params.OutputFlag = 0\n",
    "manne_model_gurobi.optimize()\n",
    "\n",
    "# Imprimir resultados\n",
    "print(\"Status:\", manne_model_gurobi.Status)\n",
    "print(\"Función objetivo =\", manne_model_gurobi.ObjVal)"
   ]
  },
  {
   "cell_type": "markdown",
   "metadata": {},
   "source": [
    "# Formulación Liao–You"
   ]
  },
  {
   "cell_type": "markdown",
   "metadata": {},
   "source": [
    "## Modelo PulP"
   ]
  },
  {
   "cell_type": "code",
   "execution_count": 210,
   "metadata": {},
   "outputs": [
    {
     "name": "stdout",
     "output_type": "stream",
     "text": [
      "Status: Optimal\n",
      "Funcion objetivo =  105.0\n"
     ]
    }
   ],
   "source": [
    "liao_you_model_pulp = pulp.LpProblem(\"Liao-You_Model_Pulp\",pulp.LpMinimize) # Problema de minimización\n",
    "\n",
    "# Variables de decision\n",
    "S = pulp.LpVariable.dicts(\"S\",(range(M),range(N)),lowBound=0, cat=pulp.LpInteger)\n",
    "D = pulp.LpVariable.dicts(\"D\",(range(N),range(N)),lowBound=0, cat=pulp.LpBinary)\n",
    "Cmax = pulp.LpVariable(\"Cmax\",lowBound=0, cat=pulp.LpInteger)\n",
    "q = pulp.LpVariable.dicts(\"q\", (range(M), range(N), range(N)), lowBound=0, cat=pulp.LpInteger)\n",
    "P = 1000 # P una constante grande\n",
    "\n",
    "# Funcion objetivo\n",
    "liao_you_model_pulp += Cmax\n",
    "\n",
    "# Restriccion 1\n",
    "for r in range(M-1):\n",
    "    for i in range(N):\n",
    "        liao_you_model_pulp += S[r][i] + T[r][i] <= S[r+1][i]\n",
    "\n",
    "# Restriccion 2\n",
    "for r in range(M):\n",
    "    for i in range(N):\n",
    "        for k in range(i + 1, N):  # Ajustar el rango para i < k\n",
    "            liao_you_model_pulp += S[r][i] - S[r][k] + P * D[i][k] - T[r][k] == q[r][i][k]\n",
    "\n",
    "# Restriccion 3\n",
    "for r in range(M):\n",
    "    for i in range(N):\n",
    "        for k in range(i + 1, N):  # Ajustar el rango para i < k\n",
    "            liao_you_model_pulp += q[r][i][k] <= P - T[r][i] - T[r][k] \n",
    "\n",
    "# Restriccion 4\n",
    "for i in range(N):\n",
    "    liao_you_model_pulp += Cmax >= S[M-1][i] + T[M-1][i]\n",
    "\n",
    "# Resolver\n",
    "liao_you_model_pulp.solve(pulp.PULP_CBC_CMD(msg=False))\n",
    "\n",
    "# Imprimir resultados\n",
    "print(\"Status:\", pulp.LpStatus[liao_you_model_pulp.status])\n",
    "print(\"Funcion objetivo = \", pulp.value(liao_you_model_pulp.objective))"
   ]
  },
  {
   "cell_type": "markdown",
   "metadata": {},
   "source": [
    "## Modelo Cplex"
   ]
  },
  {
   "cell_type": "code",
   "execution_count": 211,
   "metadata": {},
   "outputs": [
    {
     "name": "stdout",
     "output_type": "stream",
     "text": [
      "Status: JobSolveStatus.OPTIMAL_SOLUTION\n",
      "Función objetivo = 105.0\n"
     ]
    }
   ],
   "source": [
    "liao_you_model_cplex = Model(name='Liao-You_Model_Cplex')\n",
    "\n",
    "# Variables de decisión\n",
    "S = liao_you_model_cplex.integer_var_matrix(keys1=range(M), keys2=range(N), name=\"S\")\n",
    "D = liao_you_model_cplex.binary_var_matrix(keys1=range(N), keys2=range(N), name=\"D\")\n",
    "Cmax = liao_you_model_cplex.integer_var(name=\"Cmax\")\n",
    "q = liao_you_model_cplex.integer_var_cube(keys1=range(M), keys2=range(N), keys3=range(N), name=\"q\")\n",
    "P = 1000 # P una constante grande\n",
    "\n",
    "# Función objetivo\n",
    "liao_you_model_cplex.minimize(Cmax)\n",
    "\n",
    "# Restricción 1\n",
    "for r in range(M-1):\n",
    "    for i in range(N):\n",
    "        liao_you_model_cplex.add_constraint(S[r,i] + T[r][i] <= S[r+1,i])\n",
    "\n",
    "# Restricción 2\n",
    "for r in range(M):\n",
    "    for i in range(N):\n",
    "        for k in range(i + 1, N):  # Ajustar el rango para i < k\n",
    "            liao_you_model_cplex.add_constraint(S[r,i] - S[r,k] + P * D[i,k] - T[r][k] == q[r,i,k])\n",
    "\n",
    "# Restricción 3\n",
    "for r in range(M):\n",
    "    for i in range(N):\n",
    "        for k in range(i + 1, N):  # Ajustar el rango para i < k\n",
    "            liao_you_model_cplex.add_constraint(q[r,i,k] <= P - T[r][i] - T[r][k])\n",
    "\n",
    "# Restricción 4\n",
    "for i in range(N):\n",
    "    liao_you_model_cplex.add_constraint(Cmax >= S[M-1,i] + T[M-1][i])\n",
    "\n",
    "# Resolver\n",
    "liao_you_model_cplex.solve()\n",
    "\n",
    "# Imprimir resultados\n",
    "print(\"Status:\", liao_you_model_cplex.get_solve_status())\n",
    "print(\"Función objetivo =\", liao_you_model_cplex.objective_value)"
   ]
  },
  {
   "cell_type": "markdown",
   "metadata": {},
   "source": [
    "## Modelo Gurobi"
   ]
  },
  {
   "cell_type": "code",
   "execution_count": 212,
   "metadata": {},
   "outputs": [
    {
     "name": "stdout",
     "output_type": "stream",
     "text": [
      "Status: 2\n",
      "Función objetivo = 105.0\n"
     ]
    }
   ],
   "source": [
    "liao_you_model_gurobi = gp.Model(\"Liao-You_Model_Gurobi\")\n",
    "\n",
    "# Variables de decisión\n",
    "S = liao_you_model_gurobi.addVars(range(M), range(N), lb=0, vtype=GRB.INTEGER, name=\"S\")\n",
    "D = liao_you_model_gurobi.addVars(range(N), range(N), vtype=GRB.BINARY, name=\"D\")\n",
    "Cmax = liao_you_model_gurobi.addVar(lb=0, vtype=GRB.INTEGER, name=\"Cmax\")\n",
    "q = liao_you_model_gurobi.addVars(range(M), range(N), range(N), lb=0, vtype=GRB.INTEGER, name=\"q\")\n",
    "P = 1000 # P una constante grande\n",
    "\n",
    "# Función objetivo\n",
    "liao_you_model_gurobi.setObjective(Cmax, GRB.MINIMIZE)\n",
    "\n",
    "# Restricción 1\n",
    "for r in range(M-1):\n",
    "    for i in range(N):\n",
    "        liao_you_model_gurobi.addConstr(S[r,i] + T[r][i] <= S[r+1,i])\n",
    "\n",
    "# Restricción 2\n",
    "for r in range(M):\n",
    "    for i in range(N):\n",
    "        for k in range(i + 1, N):  # Ajustar el rango para i < k\n",
    "            liao_you_model_gurobi.addConstr(S[r,i] - S[r,k] + P * D[i,k] - T[r][k] == q[r,i,k])\n",
    "\n",
    "# Restricción 3\n",
    "for r in range(M):\n",
    "    for i in range(N):\n",
    "        for k in range(i + 1, N):  # Ajustar el rango para i < k\n",
    "            liao_you_model_gurobi.addConstr(q[r,i,k] <= P - T[r][i] - T[r][k])\n",
    "\n",
    "# Restricción 4\n",
    "for i in range(N):\n",
    "    liao_you_model_gurobi.addConstr(Cmax >= S[M-1,i] + T[M-1][i])\n",
    "\n",
    "# Resolver\n",
    "liao_you_model_gurobi.Params.OutputFlag = 0\n",
    "liao_you_model_gurobi.optimize()\n",
    "\n",
    "# Imprimir resultados\n",
    "print(\"Status:\", liao_you_model_gurobi.Status)\n",
    "print(\"Función objetivo =\", liao_you_model_gurobi.ObjVal)"
   ]
  }
 ],
 "metadata": {
  "kernelspec": {
   "display_name": "Python 3 (ipykernel)",
   "language": "python",
   "name": "python3"
  },
  "language_info": {
   "codemirror_mode": {
    "name": "ipython",
    "version": 3
   },
   "file_extension": ".py",
   "mimetype": "text/x-python",
   "name": "python",
   "nbconvert_exporter": "python",
   "pygments_lexer": "ipython3",
   "version": "3.10.13"
  }
 },
 "nbformat": 4,
 "nbformat_minor": 5
}
