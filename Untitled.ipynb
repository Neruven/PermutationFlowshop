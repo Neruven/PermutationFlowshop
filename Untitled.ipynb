{
 "cells": [
  {
   "cell_type": "code",
   "execution_count": 8,
   "id": "dc6654db-e2b4-4e86-9706-4724f22458d0",
   "metadata": {},
   "outputs": [],
   "source": [
    "import pulp\n",
    "import numpy as np\n",
    "\n",
    "T = [\n",
    "    [9, 13, 15 ,20],\n",
    "    [11, 17, 18, 24],\n",
    "    [8, 12, 14, 18],\n",
    "    [6, 10, 12, 15]\n",
    "]"
   ]
  },
  {
   "cell_type": "markdown",
   "metadata": {},
   "source": [
    "# Formulación Wagner"
   ]
  },
  {
   "cell_type": "code",
   "execution_count": 9,
   "metadata": {},
   "outputs": [],
   "source": [
    "wagner_model_pulp = pulp.LpProblem(\"Wagner_Model_Pulp\",pulp.LpMinimize) # Problema de minimización\n",
    "\n",
    "# Variables de decisión\n"
   ]
  }
 ],
 "metadata": {
  "kernelspec": {
   "display_name": "Python 3 (ipykernel)",
   "language": "python",
   "name": "python3"
  },
  "language_info": {
   "codemirror_mode": {
    "name": "ipython",
    "version": 3
   },
   "file_extension": ".py",
   "mimetype": "text/x-python",
   "name": "python",
   "nbconvert_exporter": "python",
   "pygments_lexer": "ipython3",
   "version": "3.11.0"
  }
 },
 "nbformat": 4,
 "nbformat_minor": 5
}
